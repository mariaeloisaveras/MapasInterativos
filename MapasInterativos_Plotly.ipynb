{
 "cells": [
  {
   "cell_type": "code",
   "execution_count": null,
   "metadata": {},
   "outputs": [],
   "source": [
    "import json\n",
    "import plotly as py\n",
    "import pandas as pd\n",
    "import plotly.express as px\n",
    "from urllib.request import urlopen"
   ]
  },
  {
   "cell_type": "markdown",
   "metadata": {},
   "source": [
    "### Importando dados geográficos"
   ]
  },
  {
   "cell_type": "code",
   "execution_count": null,
   "metadata": {},
   "outputs": [],
   "source": [
    "with urlopen('https://raw.githubusercontent.com/codeforamerica/click_that_hood/master/public/data/brazil-states.geojson') as response:\n",
    "    brasil = json.load(response) # carregar geojson do Brasil"
   ]
  },
  {
   "cell_type": "code",
   "execution_count": null,
   "metadata": {},
   "outputs": [],
   "source": [
    "brasil"
   ]
  },
  {
   "cell_type": "code",
   "execution_count": null,
   "metadata": {},
   "outputs": [],
   "source": [
    "estado_id = {}\n",
    "\n",
    "for feature in brasil['features']:\n",
    "    feature[\"id\"] = feature[\"properties\"][\"name\"]\n",
    "    estado_id[feature[\"properties\"][\"id\"]] = feature[\"id\"] # definir as informações do mapa"
   ]
  },
  {
   "cell_type": "markdown",
   "metadata": {},
   "source": [
    "### Importando dados de Produtividade de Soja no Brasil"
   ]
  },
  {
   "cell_type": "code",
   "execution_count": null,
   "metadata": {},
   "outputs": [],
   "source": [
    "prod_soja = pd.read_csv(\"https://raw.githubusercontent.com/nayanemaia/Dataset_Soja/main/soja%20sidra.csv\") #importar dados \n",
    "prod_soja.head()"
   ]
  },
  {
   "cell_type": "markdown",
   "metadata": {},
   "source": [
    "### Mapas interativos "
   ]
  },
  {
   "cell_type": "code",
   "execution_count": null,
   "metadata": {},
   "outputs": [],
   "source": [
    "map1 = px.choropleth(\n",
    "    prod_soja, # dados de soja\n",
    "    locations = \"Estado\", # limite no mapa\n",
    "    geojson = brasil, # delimitação geográfica da área de estudo\n",
    "    color = \"Produção\", # campo que definir o mapa temático\n",
    "    hover_name = \"Estado\", # o que será mostrado na caixa de info\n",
    "    hover_data = [\"Produção\", \"Latitude\", \"Longitude\"], # dados q serão mostrados na caixa de informação\n",
    "    title = \"Mapa de produtividade de soja no Brasil (toneladas)\", # título de mapa\n",
    "    animation_frame = \"ano\", # o que será usado na animação\n",
    "    )\n",
    "\n",
    "map1.update_geos(fitbounds = \"locations\", visible = False)\n",
    "map1.show() # mostra mapa interativo - por ano e possibilidade de dar zoom"
   ]
  },
  {
   "cell_type": "code",
   "execution_count": null,
   "metadata": {},
   "outputs": [],
   "source": [
    "map2 = px.choropleth_mapbox(\n",
    "    prod_soja, # dados de soja\n",
    "    locations = \"Estado\", # limite no mapa\n",
    "    geojson = brasil, # delimitação geográfica da área de estudo\n",
    "    color = \"Produção\", # campo que definir o mapa temático\n",
    "    hover_name = \"Estado\", # o que será mostrado na caixa de info\n",
    "    hover_data = [\"Produção\", \"Latitude\", \"Longitude\"], # dados q serão mostrados na caixa de informação\n",
    "    title = \"Mapa de produtividade de soja no Brasil (toneladas)\", # título de mapa\n",
    "    mapbox_style = \"carto-positron\", # definir o base map\n",
    "    center = {\"lat\": -14, \"lon\": -55}, # onde centralizar o mapa\n",
    "    zoom = 2, # tamanho do mapa\n",
    "    opacity = 0.35,  # opacidade da cor do mapa\n",
    "    animation_frame = \"ano\", # o que será usado na animação\n",
    "    )\n",
    "\n",
    "map2.show() # mostra mapa interativo - por ano e possibilidade de dar zoom"
   ]
  },
  {
   "cell_type": "markdown",
   "metadata": {},
   "source": [
    "### Visualizar o arquivo como HTML offline"
   ]
  },
  {
   "cell_type": "code",
   "execution_count": null,
   "metadata": {},
   "outputs": [],
   "source": [
    "py.offline.plot(map1, filename = \"map1.html\") # visualizar mapa 1"
   ]
  },
  {
   "cell_type": "code",
   "execution_count": null,
   "metadata": {},
   "outputs": [],
   "source": [
    "py.offline.plot(map2, filename = \"map2.html\") # visualizar mapa 2"
   ]
  },
  {
   "cell_type": "code",
   "execution_count": null,
   "metadata": {},
   "outputs": [],
   "source": []
  }
 ],
 "metadata": {
  "kernelspec": {
   "display_name": "Python 3",
   "language": "python",
   "name": "python3"
  },
  "language_info": {
   "codemirror_mode": {
    "name": "ipython",
    "version": 3
   },
   "file_extension": ".py",
   "mimetype": "text/x-python",
   "name": "python",
   "nbconvert_exporter": "python",
   "pygments_lexer": "ipython3",
   "version": "3.7.6"
  }
 },
 "nbformat": 4,
 "nbformat_minor": 4
}
